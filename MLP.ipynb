{
 "cells": [
  {
   "cell_type": "markdown",
   "metadata": {},
   "source": [
    "Importowanie bibliotek"
   ]
  },
  {
   "cell_type": "code",
   "execution_count": 1,
   "metadata": {},
   "outputs": [],
   "source": [
    "#!/usr/bin/env python3\n",
    "import pandas as pd\n",
    "import tensorflow as tf\n",
    "from tensorflow import keras\n",
    "from sklearn.model_selection import train_test_split\n",
    "from sklearn.neural_network import MLPClassifier\n",
    "from sklearn.metrics import accuracy_score\n",
    "from sklearn.metrics import confusion_matrix\n",
    "import numpy as np\n",
    "import matplotlib.pyplot as plt\n",
    "#%matplotlib inline \n",
    "import seaborn as sns"
   ]
  },
  {
   "cell_type": "markdown",
   "metadata": {},
   "source": [
    "Przetwarzanie zbioru danych:\n",
    "    - importowanie\n",
    "    - wyznaczenie kolumny klas 'target'\n",
    "    - konwersja klas na wartości binarne"
   ]
  },
  {
   "cell_type": "code",
   "execution_count": 2,
   "metadata": {},
   "outputs": [
    {
     "name": "stdout",
     "output_type": "stream",
     "text": [
      "<class 'pandas.core.frame.DataFrame'>\n",
      "RangeIndex: 4789 entries, 0 to 4788\n",
      "Columns: 463 entries, ACT_NOW to target\n",
      "dtypes: int64(462), object(1)\n",
      "memory usage: 16.9+ MB\n",
      "None\n",
      "no     2949\n",
      "yes    1840\n",
      "Name: target, dtype: int64\n"
     ]
    }
   ],
   "source": [
    "df = pd.read_csv('dane_dm/spam.dat')\n",
    "print(df.info())\n",
    "print(df['target'].value_counts())\n",
    "properties = list(df.columns.values)\n",
    "properties.remove('target')\n",
    "X = df[properties]\n",
    "Y = df['target']\n",
    "y = Y.replace(to_replace=['no', 'yes'], value=[0, 1])"
   ]
  },
  {
   "cell_type": "markdown",
   "metadata": {},
   "source": [
    "Podzielenie zbioru na testujący i trenujący"
   ]
  },
  {
   "cell_type": "code",
   "execution_count": 3,
   "metadata": {},
   "outputs": [],
   "source": [
    "X_train, X_test, y_train, y_test = train_test_split(X, y, test_size=0.3, random_state=0)"
   ]
  },
  {
   "cell_type": "markdown",
   "metadata": {},
   "source": [
    "Utworzenie klasyfikatora MLP o wymiarze warstwy ukrytej 100x100x100, liczbie iteracji = 50"
   ]
  },
  {
   "cell_type": "code",
   "execution_count": 4,
   "metadata": {},
   "outputs": [],
   "source": [
    "clf = MLPClassifier(hidden_layer_sizes=(100,100,100), max_iter=50, alpha=0.0001,\n",
    "                     solver='sgd', verbose=10,  random_state=21,tol=0.000000001)"
   ]
  },
  {
   "cell_type": "markdown",
   "metadata": {},
   "source": [
    "Trenowanie klasyfikatora i przedstawienie jakości"
   ]
  },
  {
   "cell_type": "code",
   "execution_count": 5,
   "metadata": {},
   "outputs": [
    {
     "name": "stdout",
     "output_type": "stream",
     "text": [
      "Iteration 1, loss = 0.67650018\n",
      "Iteration 2, loss = 0.66847183\n",
      "Iteration 3, loss = 0.66009317\n",
      "Iteration 4, loss = 0.65249131\n",
      "Iteration 5, loss = 0.64567691\n",
      "Iteration 6, loss = 0.63922381\n",
      "Iteration 7, loss = 0.63311598\n",
      "Iteration 8, loss = 0.62679249\n",
      "Iteration 9, loss = 0.62034175\n",
      "Iteration 10, loss = 0.61358129\n",
      "Iteration 11, loss = 0.60624603\n",
      "Iteration 12, loss = 0.59845384\n",
      "Iteration 13, loss = 0.58990900\n",
      "Iteration 14, loss = 0.58055458\n",
      "Iteration 15, loss = 0.57032478\n",
      "Iteration 16, loss = 0.55902183\n",
      "Iteration 17, loss = 0.54643794\n",
      "Iteration 18, loss = 0.53274138\n",
      "Iteration 19, loss = 0.51778874\n",
      "Iteration 20, loss = 0.50144565\n",
      "Iteration 21, loss = 0.48379046\n",
      "Iteration 22, loss = 0.46508649\n",
      "Iteration 23, loss = 0.44528839\n",
      "Iteration 24, loss = 0.42468462\n",
      "Iteration 25, loss = 0.40345719\n",
      "Iteration 26, loss = 0.38216025\n",
      "Iteration 27, loss = 0.36096508\n",
      "Iteration 28, loss = 0.34030363\n",
      "Iteration 29, loss = 0.32030147\n",
      "Iteration 30, loss = 0.30133010\n",
      "Iteration 31, loss = 0.28345000\n",
      "Iteration 32, loss = 0.26678637\n",
      "Iteration 33, loss = 0.25126205\n",
      "Iteration 34, loss = 0.23703183\n",
      "Iteration 35, loss = 0.22398818\n",
      "Iteration 36, loss = 0.21204582\n",
      "Iteration 37, loss = 0.20111233\n",
      "Iteration 38, loss = 0.19116037\n",
      "Iteration 39, loss = 0.18206281\n",
      "Iteration 40, loss = 0.17374498\n",
      "Iteration 41, loss = 0.16612051\n",
      "Iteration 42, loss = 0.15920580\n",
      "Iteration 43, loss = 0.15283710\n",
      "Iteration 44, loss = 0.14700200\n",
      "Iteration 45, loss = 0.14163762\n",
      "Iteration 46, loss = 0.13669409\n",
      "Iteration 47, loss = 0.13206213\n",
      "Iteration 48, loss = 0.12788423\n",
      "Iteration 49, loss = 0.12395403\n",
      "Iteration 50, loss = 0.12033735\n",
      "0.9721642310368824\n"
     ]
    },
    {
     "name": "stderr",
     "output_type": "stream",
     "text": [
      "/home/student/Pulpit/aied/aied/lib/python3.6/site-packages/sklearn/neural_network/_multilayer_perceptron.py:571: ConvergenceWarning: Stochastic Optimizer: Maximum iterations (50) reached and the optimization hasn't converged yet.\n",
      "  % self.max_iter, ConvergenceWarning)\n"
     ]
    }
   ],
   "source": [
    "clf.fit(X_train, y_train)\n",
    "y_pred = clf.predict(X_test)\n",
    "print(accuracy_score(y_test, y_pred))"
   ]
  },
  {
   "cell_type": "markdown",
   "metadata": {},
   "source": [
    "Wyświetlenie macierzy konfusji klasyfikatora"
   ]
  },
  {
   "cell_type": "code",
   "execution_count": 6,
   "metadata": {},
   "outputs": [
    {
     "data": {
      "image/png": "[encoded data removed]",
      "text/plain": [
       "<Figure size 432x288 with 2 Axes>"
      ]
     },
     "metadata": {
      "needs_background": "light"
     },
     "output_type": "display_data"
    }
   ],
   "source": [
    "cm = confusion_matrix(y_test, y_pred)\n",
    "cm\n",
    "sns.heatmap(cm, center=True)\n",
    "plt.show()"
   ]
  }
 ],
 "metadata": {
  "kernelspec": {
   "display_name": "Python 3",
   "language": "python",
   "name": "python3"
  },
  "language_info": {
   "codemirror_mode": {
    "name": "ipython",
    "version": 3
   },
   "file_extension": ".py",
   "mimetype": "text/x-python",
   "name": "python",
   "nbconvert_exporter": "python",
   "pygments_lexer": "ipython3",
   "version": "3.6.9"
  }
 },
 "nbformat": 4,
 "nbformat_minor": 4
}
