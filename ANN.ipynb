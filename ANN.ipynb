{
 "cells": [
  {
   "cell_type": "markdown",
   "metadata": {},
   "source": [
    "Importowanie bibliotek"
   ]
  },
  {
   "cell_type": "code",
   "execution_count": 1,
   "metadata": {},
   "outputs": [],
   "source": [
    "#!/usr/bin/env python3\n",
    "import pandas as pd\n",
    "import tensorflow as tf\n",
    "from tensorflow import keras\n",
    "from sklearn.model_selection import train_test_split\n",
    "from sklearn.neural_network import MLPClassifier\n",
    "from sklearn.metrics import accuracy_score\n",
    "from sklearn.metrics import confusion_matrix"
   ]
  },
  {
   "cell_type": "markdown",
   "metadata": {},
   "source": [
    "Przetwarzanie zbioru danych:\n",
    "    - importowanie\n",
    "    - wyznaczenie kolumny klas 'target'\n",
    "    - konwersja klas na wartości binarne"
   ]
  },
  {
   "cell_type": "code",
   "execution_count": 2,
   "metadata": {},
   "outputs": [
    {
     "name": "stdout",
     "output_type": "stream",
     "text": [
      "<class 'pandas.core.frame.DataFrame'>\n",
      "RangeIndex: 4789 entries, 0 to 4788\n",
      "Columns: 463 entries, ACT_NOW to target\n",
      "dtypes: int64(462), object(1)\n",
      "memory usage: 16.9+ MB\n",
      "None\n",
      "no     2949\n",
      "yes    1840\n",
      "Name: target, dtype: int64\n"
     ]
    }
   ],
   "source": [
    "df = pd.read_csv('dane_dm/spam.dat')\n",
    "print(df.info())\n",
    "print(df['target'].value_counts())\n",
    "properties = list(df.columns.values)\n",
    "properties.remove('target')\n",
    "X = df[properties]\n",
    "Y = df['target']\n",
    "y = Y.replace(to_replace=['no', 'yes'], value=[0, 1])"
   ]
  },
  {
   "cell_type": "markdown",
   "metadata": {},
   "source": [
    "Podzielenie zbioru na testujący i trenujący"
   ]
  },
  {
   "cell_type": "code",
   "execution_count": 3,
   "metadata": {},
   "outputs": [],
   "source": [
    "X_train, X_test, y_train, y_test = train_test_split(X, y, test_size=0.3, random_state=0)"
   ]
  },
  {
   "cell_type": "markdown",
   "metadata": {},
   "source": [
    "Utworzenie modelu sieci neuronowej z jedną warstwą Flatten i trzema warstwami Dense."
   ]
  },
  {
   "cell_type": "code",
   "execution_count": 4,
   "metadata": {},
   "outputs": [
    {
     "name": "stdout",
     "output_type": "stream",
     "text": [
      "WARNING:tensorflow:From /home/student/Pulpit/aied/aied/lib/python3.6/site-packages/tensorflow/python/ops/init_ops.py:1251: calling VarianceScaling.__init__ (from tensorflow.python.ops.init_ops) with dtype is deprecated and will be removed in a future version.\n",
      "Instructions for updating:\n",
      "Call initializer instance with the dtype argument instead of passing it to the constructor\n",
      "Model: \"sequential\"\n",
      "_________________________________________________________________\n",
      "Layer (type)                 Output Shape              Param #   \n",
      "=================================================================\n",
      "flatten (Flatten)            (None, 462)               0         \n",
      "_________________________________________________________________\n",
      "dense (Dense)                (None, 60)                27780     \n",
      "_________________________________________________________________\n",
      "dense_1 (Dense)              (None, 60)                3660      \n",
      "_________________________________________________________________\n",
      "dense_2 (Dense)              (None, 1)                 61        \n",
      "=================================================================\n",
      "Total params: 31,501\n",
      "Trainable params: 31,501\n",
      "Non-trainable params: 0\n",
      "_________________________________________________________________\n"
     ]
    }
   ],
   "source": [
    "model = keras.Sequential([\n",
    "    keras.layers.Flatten(input_shape=(462,)),\n",
    "    keras.layers.Dense(60, activation=tf.nn.relu),\n",
    "\tkeras.layers.Dense(60, activation=tf.nn.relu),\n",
    "    keras.layers.Dense(1, activation=tf.nn.sigmoid),\n",
    "])\n",
    "model.summary()"
   ]
  },
  {
   "cell_type": "markdown",
   "metadata": {},
   "source": [
    "Kompilacja i trenowanie modelu w 10. epokach i batch_size = 32"
   ]
  },
  {
   "cell_type": "code",
   "execution_count": 5,
   "metadata": {},
   "outputs": [
    {
     "name": "stdout",
     "output_type": "stream",
     "text": [
      "WARNING:tensorflow:From /home/student/Pulpit/aied/aied/lib/python3.6/site-packages/tensorflow/python/ops/nn_impl.py:180: add_dispatch_support.<locals>.wrapper (from tensorflow.python.ops.array_ops) is deprecated and will be removed in a future version.\n",
      "Instructions for updating:\n",
      "Use tf.where in 2.0, which has the same broadcast rule as np.where\n",
      "Epoch 1/10\n",
      "3352/3352 [==============================] - 0s 148us/sample - loss: 0.2964 - acc: 0.9323\n",
      "Epoch 2/10\n",
      "3352/3352 [==============================] - 0s 93us/sample - loss: 0.0495 - acc: 0.9827\n",
      "Epoch 3/10\n",
      "3352/3352 [==============================] - 0s 76us/sample - loss: 0.0321 - acc: 0.9899\n",
      "Epoch 4/10\n",
      "3352/3352 [==============================] - 0s 91us/sample - loss: 0.0253 - acc: 0.9905\n",
      "Epoch 5/10\n",
      "3352/3352 [==============================] - 0s 123us/sample - loss: 0.0216 - acc: 0.9919\n",
      "Epoch 6/10\n",
      "3352/3352 [==============================] - 0s 103us/sample - loss: 0.0176 - acc: 0.9931\n",
      "Epoch 7/10\n",
      "3352/3352 [==============================] - 0s 85us/sample - loss: 0.0153 - acc: 0.9943\n",
      "Epoch 8/10\n",
      "3352/3352 [==============================] - 0s 97us/sample - loss: 0.0123 - acc: 0.9961\n",
      "Epoch 9/10\n",
      "3352/3352 [==============================] - 0s 99us/sample - loss: 0.0110 - acc: 0.9952\n",
      "Epoch 10/10\n",
      "3352/3352 [==============================] - 0s 82us/sample - loss: 0.0095 - acc: 0.9973\n",
      "1437/1437 [==============================] - 0s 79us/sample - loss: 0.0887 - acc: 0.9805\n",
      "Test accuracy: 0.98051494\n",
      "Test loss: 0.08871196518913327\n"
     ]
    }
   ],
   "source": [
    "model.compile(optimizer='adam',\n",
    "              loss='binary_crossentropy',\n",
    "              metrics=['accuracy'])\n",
    "\n",
    "model.fit(X_train, y_train, epochs=10, batch_size=32)\n",
    "test_loss, test_acc = model.evaluate(X_test, y_test)\n",
    "print('Test accuracy:', test_acc)\n",
    "print('Test loss:', test_loss)"
   ]
  }
 ],
 "metadata": {
  "kernelspec": {
   "display_name": "Python 3",
   "language": "python",
   "name": "python3"
  },
  "language_info": {
   "codemirror_mode": {
    "name": "ipython",
    "version": 3
   },
   "file_extension": ".py",
   "mimetype": "text/x-python",
   "name": "python",
   "nbconvert_exporter": "python",
   "pygments_lexer": "ipython3",
   "version": "3.6.9"
  }
 },
 "nbformat": 4,
 "nbformat_minor": 4
}
