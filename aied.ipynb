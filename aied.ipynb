{
 "cells": [
  {
   "cell_type": "markdown",
   "metadata": {},
   "source": [
    "# Analityka i eksploracja danych \n",
    "\n",
    "## Data Minging - filtracja spamu\n",
    "\n",
    "### Autor: Łukasz Broll, 225972\n",
    "### Prowadzący: Dr hab. inż. Henryk Maciejewski\n",
    "\n",
    "30 stycznia 2020\n",
    "\n",
    "## 1. Cel pracy\n",
    "\n",
    "Głównym celem pracy było zaimplementowanie i wytrenowanie klasyfikatora do analizy atrybutów wiadomości pod kątem wiadomości zawierającej SPAM.\n",
    "\n",
    "## 2. Zakres pracy\n",
    "\n",
    "Proces realizacji projektu mozna podzielić na następujące części:\n",
    "\n",
    "    Analiza - przygotowanie teoretyczne do zrozumienia problemu i przegląd podobnych rozwiązań.\n",
    "    Implementacja - przetowrzenie zbioru danych, utworzenie kodu źródłowego klasyfikatorów i ocena ich jakości.\n",
    "    \n",
    "## 3. Narzędzia i technologie\n",
    "\n",
    "### 3.1 Oprogramowanie\n",
    "\n",
    "    1) Jupyter - do wizualnego przedstawienia wyników implementacji\n",
    "    2) Visual Studio Code - środowisko programistyczne\n",
    "    3) Github - wersjonowanie kodu źródłwego\n",
    "    4) Python 3 - język programowania\n",
    "    \n",
    "### 3.2 Biblioteki \n",
    "\n",
    "    1) Pandas - biblioteka do przetwarzania zbiorów danych\n",
    "    2) Tensorflow, keras - modelowanie sztucznych sieci neuronowych\n",
    "    3) sklearn - tworzenie modeli, korzystanie z gotowych klasyfikatorów\n",
    "    \n",
    "## 4. Algorytmy\n",
    "\n",
    " - Klasyfikator MLP (Multilayer Perceptron) - gotowy model sztucznej sieci neuronowej \n",
    " - Sztuczna sieć neuronowa - ręczna implementacja modelu sieci neuronowej\n",
    " - Support Vector Machines - nadzorowany algorytm uczenia maszynowego w przestrzeni n-wymiarowej. \n",
    "     W testach uwzględniono następujące rodzaje kerneli:\n",
    " \n",
    "    - Domyślny kernel\n",
    "    - Liniowy kernel\n",
    "    - Kernel radialnej funkcji bazowej\n",
    "    - Kernel wielomianowy\n",
    " \n",
    "## 5. Implementacja\n",
    "\n",
    "### 5.1 Przygotowanie danych"
   ]
  },
  {
   "cell_type": "markdown",
   "metadata": {},
   "source": [
    "Importowanie bibliotek"
   ]
  },
  {
   "cell_type": "code",
   "execution_count": 1,
   "metadata": {},
   "outputs": [],
   "source": [
    "#!/usr/bin/env python3\n",
    "import pandas as pd\n",
    "import tensorflow as tf\n",
    "from tensorflow import keras\n",
    "from sklearn.model_selection import train_test_split\n",
    "from sklearn.neural_network import MLPClassifier\n",
    "from sklearn.metrics import accuracy_score\n",
    "from sklearn.metrics import confusion_matrix\n",
    "from sklearn.svm import SVC\n",
    "from sklearn import metrics\n",
    "import numpy as np\n",
    "import matplotlib.pyplot as plt\n",
    "#%matplotlib inline \n",
    "import seaborn as sns"
   ]
  },
  {
   "cell_type": "markdown",
   "metadata": {},
   "source": [
    "Przetwarzanie zbioru danych:\n",
    "    - importowanie\n",
    "    - wyznaczenie kolumny klas 'target'\n",
    "    - konwersja klas na wartości binarne"
   ]
  },
  {
   "cell_type": "code",
   "execution_count": 2,
   "metadata": {},
   "outputs": [
    {
     "name": "stdout",
     "output_type": "stream",
     "text": [
      "<class 'pandas.core.frame.DataFrame'>\n",
      "RangeIndex: 4789 entries, 0 to 4788\n",
      "Columns: 463 entries, ACT_NOW to target\n",
      "dtypes: int64(462), object(1)\n",
      "memory usage: 16.9+ MB\n",
      "None\n",
      "no     2949\n",
      "yes    1840\n",
      "Name: target, dtype: int64\n"
     ]
    }
   ],
   "source": [
    "df = pd.read_csv('dane_dm/spam.dat')\n",
    "print(df.info())\n",
    "print(df['target'].value_counts())\n",
    "properties = list(df.columns.values)\n",
    "properties.remove('target')\n",
    "X = df[properties]\n",
    "Y = df['target']\n",
    "y = Y.replace(to_replace=['no', 'yes'], value=[0, 1])"
   ]
  },
  {
   "cell_type": "markdown",
   "metadata": {},
   "source": [
    "Podzielenie zbioru na testujący i trenujący"
   ]
  },
  {
   "cell_type": "code",
   "execution_count": 3,
   "metadata": {},
   "outputs": [],
   "source": [
    "X_train, X_test, y_train, y_test = train_test_split(X, y, test_size=0.2, random_state=0)"
   ]
  },
  {
   "cell_type": "markdown",
   "metadata": {},
   "source": [
    "### 5.2 ANN"
   ]
  },
  {
   "cell_type": "markdown",
   "metadata": {},
   "source": [
    "Zbudowanie modelu z jedną warstwą Flatten i dwoma Dense, funkcja aktywacji ReLu"
   ]
  },
  {
   "cell_type": "code",
   "execution_count": 4,
   "metadata": {},
   "outputs": [
    {
     "name": "stdout",
     "output_type": "stream",
     "text": [
      "WARNING:tensorflow:From /home/student/Pulpit/aied/aied/lib/python3.6/site-packages/tensorflow/python/ops/init_ops.py:1251: calling VarianceScaling.__init__ (from tensorflow.python.ops.init_ops) with dtype is deprecated and will be removed in a future version.\n",
      "Instructions for updating:\n",
      "Call initializer instance with the dtype argument instead of passing it to the constructor\n",
      "Model: \"sequential\"\n",
      "_________________________________________________________________\n",
      "Layer (type)                 Output Shape              Param #   \n",
      "=================================================================\n",
      "flatten (Flatten)            (None, 462)               0         \n",
      "_________________________________________________________________\n",
      "dense (Dense)                (None, 128)               59264     \n",
      "_________________________________________________________________\n",
      "dense_1 (Dense)              (None, 1)                 129       \n",
      "=================================================================\n",
      "Total params: 59,393\n",
      "Trainable params: 59,393\n",
      "Non-trainable params: 0\n",
      "_________________________________________________________________\n"
     ]
    }
   ],
   "source": [
    "model = keras.Sequential([\n",
    "    keras.layers.Flatten(input_shape=(462,)),\n",
    "    keras.layers.Dense(128, activation=tf.nn.relu),\n",
    "    keras.layers.Dense(1, activation=tf.nn.relu),\n",
    "])\n",
    "model.summary()"
   ]
  },
  {
   "cell_type": "markdown",
   "metadata": {},
   "source": [
    "Kompilacja i trenowanie modelu w 10. epokach i batch_size = 32, optymalizator adams"
   ]
  },
  {
   "cell_type": "code",
   "execution_count": 5,
   "metadata": {
    "scrolled": true
   },
   "outputs": [
    {
     "name": "stdout",
     "output_type": "stream",
     "text": [
      "WARNING:tensorflow:From /home/student/Pulpit/aied/aied/lib/python3.6/site-packages/tensorflow/python/ops/math_grad.py:1250: add_dispatch_support.<locals>.wrapper (from tensorflow.python.ops.array_ops) is deprecated and will be removed in a future version.\n",
      "Instructions for updating:\n",
      "Use tf.where in 2.0, which has the same broadcast rule as np.where\n",
      "Epoch 1/12\n",
      "3831/3831 [==============================] - 2s 406us/sample - loss: 0.2576 - acc: 0.9120\n",
      "Epoch 2/12\n",
      "3831/3831 [==============================] - 1s 206us/sample - loss: 0.0837 - acc: 0.9721\n",
      "Epoch 3/12\n",
      "3831/3831 [==============================] - 1s 215us/sample - loss: 0.0637 - acc: 0.9851\n",
      "Epoch 4/12\n",
      "3831/3831 [==============================] - 1s 188us/sample - loss: 0.0511 - acc: 0.9880\n",
      "Epoch 5/12\n",
      "3831/3831 [==============================] - 1s 196us/sample - loss: 0.0500 - acc: 0.9898\n",
      "Epoch 6/12\n",
      "3831/3831 [==============================] - 1s 203us/sample - loss: 0.0411 - acc: 0.9903\n",
      "Epoch 7/12\n",
      "3831/3831 [==============================] - 1s 193us/sample - loss: 0.0361 - acc: 0.9911\n",
      "Epoch 8/12\n",
      "3831/3831 [==============================] - 1s 218us/sample - loss: 0.0331 - acc: 0.9914\n",
      "Epoch 9/12\n",
      "3831/3831 [==============================] - 1s 202us/sample - loss: 0.0313 - acc: 0.9911\n",
      "Epoch 10/12\n",
      "3831/3831 [==============================] - 1s 211us/sample - loss: 0.0300 - acc: 0.9922\n",
      "Epoch 11/12\n",
      "3831/3831 [==============================] - 1s 263us/sample - loss: 0.0323 - acc: 0.9945\n",
      "Epoch 12/12\n",
      "3831/3831 [==============================] - 1s 215us/sample - loss: 0.0293 - acc: 0.9930\n",
      "958/958 [==============================] - 0s 267us/sample - loss: 0.0953 - acc: 0.9854\n",
      "Test accuracy: 0.9853862\n",
      "Test loss: 0.09525344988023998\n"
     ]
    }
   ],
   "source": [
    "model.compile(optimizer='adam',\n",
    "              loss='binary_crossentropy',\n",
    "              metrics=['accuracy'])\n",
    "\n",
    "model.fit(X_train, y_train, epochs=12, batch_size=64)\n",
    "test_loss, test_acc = model.evaluate(X_test, y_test)\n",
    "print('Test accuracy:', test_acc)\n",
    "print('Test loss:', test_loss)"
   ]
  },
  {
   "cell_type": "markdown",
   "metadata": {},
   "source": [
    "Zmiana funkcji aktywacji na sigmoid"
   ]
  },
  {
   "cell_type": "code",
   "execution_count": 6,
   "metadata": {},
   "outputs": [
    {
     "name": "stdout",
     "output_type": "stream",
     "text": [
      "Model: \"sequential_1\"\n",
      "_________________________________________________________________\n",
      "Layer (type)                 Output Shape              Param #   \n",
      "=================================================================\n",
      "flatten_1 (Flatten)          (None, 462)               0         \n",
      "_________________________________________________________________\n",
      "dense_2 (Dense)              (None, 128)               59264     \n",
      "_________________________________________________________________\n",
      "dense_3 (Dense)              (None, 1)                 129       \n",
      "=================================================================\n",
      "Total params: 59,393\n",
      "Trainable params: 59,393\n",
      "Non-trainable params: 0\n",
      "_________________________________________________________________\n",
      "Epoch 1/12\n",
      "3831/3831 [==============================] - 1s 244us/sample - loss: 0.4533 - acc: 0.8243\n",
      "Epoch 2/12\n",
      "3831/3831 [==============================] - 1s 207us/sample - loss: 0.2239 - acc: 0.9441\n",
      "Epoch 3/12\n",
      "3831/3831 [==============================] - 1s 210us/sample - loss: 0.1432 - acc: 0.9603\n",
      "Epoch 4/12\n",
      "3831/3831 [==============================] - ETA: 0s - loss: 0.1078 - acc: 0.971 - 1s 219us/sample - loss: 0.1074 - acc: 0.9718\n",
      "Epoch 5/12\n",
      "3831/3831 [==============================] - 1s 211us/sample - loss: 0.0878 - acc: 0.9789\n",
      "Epoch 6/12\n",
      "3831/3831 [==============================] - 1s 226us/sample - loss: 0.0751 - acc: 0.9828\n",
      "Epoch 7/12\n",
      "3831/3831 [==============================] - 1s 199us/sample - loss: 0.0663 - acc: 0.9825\n",
      "Epoch 8/12\n",
      "3831/3831 [==============================] - 1s 206us/sample - loss: 0.0600 - acc: 0.9843\n",
      "Epoch 9/12\n",
      "3831/3831 [==============================] - 1s 199us/sample - loss: 0.0553 - acc: 0.9851\n",
      "Epoch 10/12\n",
      "3831/3831 [==============================] - 1s 209us/sample - loss: 0.0512 - acc: 0.9862\n",
      "Epoch 11/12\n",
      "3831/3831 [==============================] - 1s 222us/sample - loss: 0.0483 - acc: 0.9872\n",
      "Epoch 12/12\n",
      "3831/3831 [==============================] - 1s 189us/sample - loss: 0.0459 - acc: 0.9872\n",
      "958/958 [==============================] - 0s 181us/sample - loss: 0.0541 - acc: 0.9864\n",
      "Test accuracy: 0.98643005\n",
      "Test loss: 0.054074157982100274\n"
     ]
    }
   ],
   "source": [
    "model = keras.Sequential([\n",
    "    keras.layers.Flatten(input_shape=(462,)),\n",
    "    keras.layers.Dense(128, activation=tf.nn.sigmoid),\n",
    "    keras.layers.Dense(1, activation=tf.nn.sigmoid),\n",
    "])\n",
    "model.summary()\n",
    "model.compile(optimizer='adam',\n",
    "              loss='binary_crossentropy',\n",
    "              metrics=['accuracy'])\n",
    "\n",
    "model.fit(X_train, y_train, epochs=12, batch_size=64)\n",
    "test_loss, test_acc = model.evaluate(X_test, y_test)\n",
    "print('Test accuracy:', test_acc)\n",
    "print('Test loss:', test_loss)"
   ]
  },
  {
   "cell_type": "markdown",
   "metadata": {},
   "source": [
    "Dodanie drugiej wartstwy Dense"
   ]
  },
  {
   "cell_type": "code",
   "execution_count": 7,
   "metadata": {},
   "outputs": [
    {
     "name": "stdout",
     "output_type": "stream",
     "text": [
      "Model: \"sequential_2\"\n",
      "_________________________________________________________________\n",
      "Layer (type)                 Output Shape              Param #   \n",
      "=================================================================\n",
      "flatten_2 (Flatten)          (None, 462)               0         \n",
      "_________________________________________________________________\n",
      "dense_4 (Dense)              (None, 128)               59264     \n",
      "_________________________________________________________________\n",
      "dense_5 (Dense)              (None, 128)               16512     \n",
      "_________________________________________________________________\n",
      "dense_6 (Dense)              (None, 1)                 129       \n",
      "=================================================================\n",
      "Total params: 75,905\n",
      "Trainable params: 75,905\n",
      "Non-trainable params: 0\n",
      "_________________________________________________________________\n",
      "Epoch 1/12\n",
      "3831/3831 [==============================] - 1s 310us/sample - loss: 0.5904 - acc: 0.6724\n",
      "Epoch 2/12\n",
      "3831/3831 [==============================] - 1s 255us/sample - loss: 0.2557 - acc: 0.9368\n",
      "Epoch 3/12\n",
      "3831/3831 [==============================] - 1s 285us/sample - loss: 0.1158 - acc: 0.9645\n",
      "Epoch 4/12\n",
      "3831/3831 [==============================] - 1s 254us/sample - loss: 0.0805 - acc: 0.9765\n",
      "Epoch 5/12\n",
      "3831/3831 [==============================] - 1s 254us/sample - loss: 0.0651 - acc: 0.9836\n",
      "Epoch 6/12\n",
      "3831/3831 [==============================] - 1s 222us/sample - loss: 0.0561 - acc: 0.9843\n",
      "Epoch 7/12\n",
      "3831/3831 [==============================] - 1s 245us/sample - loss: 0.0495 - acc: 0.9856\n",
      "Epoch 8/12\n",
      "3831/3831 [==============================] - 1s 264us/sample - loss: 0.0464 - acc: 0.9864\n",
      "Epoch 9/12\n",
      "3831/3831 [==============================] - 1s 242us/sample - loss: 0.0418 - acc: 0.9875\n",
      "Epoch 10/12\n",
      "3831/3831 [==============================] - 1s 243us/sample - loss: 0.0390 - acc: 0.9880\n",
      "Epoch 11/12\n",
      "3831/3831 [==============================] - 1s 247us/sample - loss: 0.0370 - acc: 0.9888\n",
      "Epoch 12/12\n",
      "3831/3831 [==============================] - 1s 225us/sample - loss: 0.0347 - acc: 0.9888\n",
      "958/958 [==============================] - 0s 330us/sample - loss: 0.0490 - acc: 0.9864\n",
      "Test accuracy: 0.98643005\n",
      "Test loss: 0.048963370732963085\n"
     ]
    }
   ],
   "source": [
    "model = keras.Sequential([\n",
    "    keras.layers.Flatten(input_shape=(462,)),\n",
    "    keras.layers.Dense(128, activation=tf.nn.sigmoid),\n",
    "    keras.layers.Dense(128, activation=tf.nn.sigmoid),\n",
    "    keras.layers.Dense(1, activation=tf.nn.sigmoid),\n",
    "])\n",
    "model.summary()\n",
    "model.compile(optimizer='adam',\n",
    "              loss='binary_crossentropy',\n",
    "              metrics=['accuracy'])\n",
    "\n",
    "model.fit(X_train, y_train, epochs=12, batch_size=64)\n",
    "test_loss, test_acc = model.evaluate(X_test, y_test)\n",
    "print('Test accuracy:', test_acc)\n",
    "print('Test loss:', test_loss)"
   ]
  },
  {
   "cell_type": "markdown",
   "metadata": {},
   "source": [
    "Zmiana funkcji aktywacji na Relu oprócz ostatniej warstwy"
   ]
  },
  {
   "cell_type": "code",
   "execution_count": 8,
   "metadata": {},
   "outputs": [
    {
     "name": "stdout",
     "output_type": "stream",
     "text": [
      "Model: \"sequential_3\"\n",
      "_________________________________________________________________\n",
      "Layer (type)                 Output Shape              Param #   \n",
      "=================================================================\n",
      "flatten_3 (Flatten)          (None, 462)               0         \n",
      "_________________________________________________________________\n",
      "dense_7 (Dense)              (None, 128)               59264     \n",
      "_________________________________________________________________\n",
      "dense_8 (Dense)              (None, 128)               16512     \n",
      "_________________________________________________________________\n",
      "dense_9 (Dense)              (None, 1)                 129       \n",
      "=================================================================\n",
      "Total params: 75,905\n",
      "Trainable params: 75,905\n",
      "Non-trainable params: 0\n",
      "_________________________________________________________________\n",
      "Epoch 1/12\n",
      "3831/3831 [==============================] - 1s 352us/sample - loss: 0.2722 - acc: 0.9379\n",
      "Epoch 2/12\n",
      "3831/3831 [==============================] - 1s 273us/sample - loss: 0.0508 - acc: 0.9854s - loss: 0.056\n",
      "Epoch 3/12\n",
      "3831/3831 [==============================] - 1s 243us/sample - loss: 0.0348 - acc: 0.9888\n",
      "Epoch 4/12\n",
      "3831/3831 [==============================] - 1s 244us/sample - loss: 0.0270 - acc: 0.9903\n",
      "Epoch 5/12\n",
      "3831/3831 [==============================] - 1s 238us/sample - loss: 0.0221 - acc: 0.9937\n",
      "Epoch 6/12\n",
      "3831/3831 [==============================] - 1s 222us/sample - loss: 0.0201 - acc: 0.9943\n",
      "Epoch 7/12\n",
      "3831/3831 [==============================] - 1s 230us/sample - loss: 0.0168 - acc: 0.9961\n",
      "Epoch 8/12\n",
      "3831/3831 [==============================] - 1s 242us/sample - loss: 0.0151 - acc: 0.9963\n",
      "Epoch 9/12\n",
      "3831/3831 [==============================] - 1s 235us/sample - loss: 0.0147 - acc: 0.9956\n",
      "Epoch 10/12\n",
      "3831/3831 [==============================] - 1s 216us/sample - loss: 0.0124 - acc: 0.9969\n",
      "Epoch 11/12\n",
      "3831/3831 [==============================] - 1s 229us/sample - loss: 0.0121 - acc: 0.9971\n",
      "Epoch 12/12\n",
      "3831/3831 [==============================] - 1s 203us/sample - loss: 0.0107 - acc: 0.9974\n",
      "958/958 [==============================] - 0s 237us/sample - loss: 0.0558 - acc: 0.9864\n",
      "Test accuracy: 0.98643005\n",
      "Test loss: 0.055763813369034444\n"
     ]
    }
   ],
   "source": [
    "model = keras.Sequential([\n",
    "    keras.layers.Flatten(input_shape=(462,)),\n",
    "    keras.layers.Dense(128, activation=tf.nn.relu),\n",
    "    keras.layers.Dense(128, activation=tf.nn.relu),\n",
    "    keras.layers.Dense(1, activation=tf.nn.sigmoid),\n",
    "])\n",
    "model.summary()\n",
    "model.compile(optimizer='adam',\n",
    "              loss='binary_crossentropy',\n",
    "              metrics=['accuracy'])\n",
    "\n",
    "model.fit(X_train, y_train, epochs=12, batch_size=64)\n",
    "test_loss, test_acc = model.evaluate(X_test, y_test)\n",
    "print('Test accuracy:', test_acc)\n",
    "print('Test loss:', test_loss)"
   ]
  },
  {
   "cell_type": "markdown",
   "metadata": {},
   "source": [
    "### 5.3 MLP"
   ]
  },
  {
   "cell_type": "markdown",
   "metadata": {},
   "source": [
    "Utworzenie klasyfikatora MLP o wymiarze warstwy ukrytej 10x10x10, liczbie iteracji = 10"
   ]
  },
  {
   "cell_type": "code",
   "execution_count": 9,
   "metadata": {},
   "outputs": [],
   "source": [
    "clf = MLPClassifier(hidden_layer_sizes=(10,10,10), max_iter=10, alpha=0.0001,\n",
    "                     solver='sgd', verbose=10,  random_state=21,tol=0.000000001)"
   ]
  },
  {
   "cell_type": "markdown",
   "metadata": {},
   "source": [
    "Trenowanie klasyfikatora i przedstawienie jakości"
   ]
  },
  {
   "cell_type": "code",
   "execution_count": 10,
   "metadata": {},
   "outputs": [
    {
     "name": "stdout",
     "output_type": "stream",
     "text": [
      "Iteration 1, loss = 0.71123116\n",
      "Iteration 2, loss = 0.70311845\n",
      "Iteration 3, loss = 0.69511304\n",
      "Iteration 4, loss = 0.68799993\n",
      "Iteration 5, loss = 0.68213501\n",
      "Iteration 6, loss = 0.67721915\n",
      "Iteration 7, loss = 0.67323428\n",
      "Iteration 8, loss = 0.66983666\n",
      "Iteration 9, loss = 0.66689773\n",
      "Iteration 10, loss = 0.66425480\n",
      "0.6242171189979123\n"
     ]
    },
    {
     "name": "stderr",
     "output_type": "stream",
     "text": [
      "/home/student/Pulpit/aied/aied/lib/python3.6/site-packages/sklearn/neural_network/_multilayer_perceptron.py:571: ConvergenceWarning: Stochastic Optimizer: Maximum iterations (10) reached and the optimization hasn't converged yet.\n",
      "  % self.max_iter, ConvergenceWarning)\n"
     ]
    }
   ],
   "source": [
    "clf.fit(X_train, y_train)\n",
    "y_pred = clf.predict(X_test)\n",
    "print(accuracy_score(y_test, y_pred))"
   ]
  },
  {
   "cell_type": "markdown",
   "metadata": {},
   "source": [
    "Wyświetlenie macierzy konfusji klasyfikatora"
   ]
  },
  {
   "cell_type": "code",
   "execution_count": 11,
   "metadata": {},
   "outputs": [
    {
     "name": "stdout",
     "output_type": "stream",
     "text": [
      "[[598   0]\n",
      " [360   0]]\n"
     ]
    },
    {
     "data": {
      "image/png": "[encoded data removed]",
      "text/plain": [
       "<Figure size 432x288 with 2 Axes>"
      ]
     },
     "metadata": {
      "needs_background": "light"
     },
     "output_type": "display_data"
    }
   ],
   "source": [
    "cm = confusion_matrix(y_test, y_pred)\n",
    "print(cm)\n",
    "sns.heatmap(cm, center=True)\n",
    "plt.show()"
   ]
  },
  {
   "cell_type": "markdown",
   "metadata": {},
   "source": [
    "Zwiększenie rozmiaru warsty ukrytej do 100x100x100 i porównianie wyników"
   ]
  },
  {
   "cell_type": "code",
   "execution_count": 12,
   "metadata": {},
   "outputs": [
    {
     "name": "stdout",
     "output_type": "stream",
     "text": [
      "Iteration 1, loss = 0.67603261\n",
      "Iteration 2, loss = 0.66676676\n",
      "Iteration 3, loss = 0.65715841\n",
      "Iteration 4, loss = 0.64888090\n",
      "Iteration 5, loss = 0.64130160\n",
      "Iteration 6, loss = 0.63403916\n",
      "Iteration 7, loss = 0.62670140\n",
      "Iteration 8, loss = 0.61906727\n",
      "Iteration 9, loss = 0.61087862\n",
      "Iteration 10, loss = 0.60192768\n",
      "0.6722338204592901\n",
      "[[598   0]\n",
      " [314  46]]\n"
     ]
    },
    {
     "name": "stderr",
     "output_type": "stream",
     "text": [
      "/home/student/Pulpit/aied/aied/lib/python3.6/site-packages/sklearn/neural_network/_multilayer_perceptron.py:571: ConvergenceWarning: Stochastic Optimizer: Maximum iterations (10) reached and the optimization hasn't converged yet.\n",
      "  % self.max_iter, ConvergenceWarning)\n"
     ]
    },
    {
     "data": {
      "image/png": "[encoded data removed]",
      "text/plain": [
       "<Figure size 432x288 with 2 Axes>"
      ]
     },
     "metadata": {
      "needs_background": "light"
     },
     "output_type": "display_data"
    }
   ],
   "source": [
    "clf = MLPClassifier(hidden_layer_sizes=(100,100,100), max_iter=10, alpha=0.0001,\n",
    "                     solver='sgd', verbose=10,  random_state=21,tol=0.000000001)\n",
    "clf.fit(X_train, y_train)\n",
    "y_pred = clf.predict(X_test)\n",
    "print(accuracy_score(y_test, y_pred))\n",
    "\n",
    "cm = confusion_matrix(y_test, y_pred)\n",
    "print(cm)\n",
    "sns.heatmap(cm, center=True)\n",
    "plt.show()"
   ]
  },
  {
   "cell_type": "markdown",
   "metadata": {},
   "source": [
    "Zwiększenie liczby iteracji do 50"
   ]
  },
  {
   "cell_type": "code",
   "execution_count": 13,
   "metadata": {},
   "outputs": [
    {
     "name": "stdout",
     "output_type": "stream",
     "text": [
      "Iteration 1, loss = 0.67603261\n",
      "Iteration 2, loss = 0.66676676\n",
      "Iteration 3, loss = 0.65715841\n",
      "Iteration 4, loss = 0.64888090\n",
      "Iteration 5, loss = 0.64130160\n",
      "Iteration 6, loss = 0.63403916\n",
      "Iteration 7, loss = 0.62670140\n",
      "Iteration 8, loss = 0.61906727\n",
      "Iteration 9, loss = 0.61087862\n",
      "Iteration 10, loss = 0.60192768\n",
      "Iteration 11, loss = 0.59208801\n",
      "Iteration 12, loss = 0.58122524\n",
      "Iteration 13, loss = 0.56904435\n",
      "Iteration 14, loss = 0.55533275\n",
      "Iteration 15, loss = 0.53990432\n",
      "Iteration 16, loss = 0.52295015\n",
      "Iteration 17, loss = 0.50409888\n",
      "Iteration 18, loss = 0.48345015\n",
      "Iteration 19, loss = 0.46120153\n",
      "Iteration 20, loss = 0.43758420\n",
      "Iteration 21, loss = 0.41307622\n",
      "Iteration 22, loss = 0.38797234\n",
      "Iteration 23, loss = 0.36291372\n",
      "Iteration 24, loss = 0.33852636\n",
      "Iteration 25, loss = 0.31532770\n",
      "Iteration 26, loss = 0.29357716\n",
      "Iteration 27, loss = 0.27336094\n",
      "Iteration 28, loss = 0.25493516\n",
      "Iteration 29, loss = 0.23807687\n",
      "Iteration 30, loss = 0.22287037\n",
      "Iteration 31, loss = 0.20912973\n",
      "Iteration 32, loss = 0.19680225\n",
      "Iteration 33, loss = 0.18573099\n",
      "Iteration 34, loss = 0.17589422\n",
      "Iteration 35, loss = 0.16702043\n",
      "Iteration 36, loss = 0.15904989\n",
      "Iteration 37, loss = 0.15182263\n",
      "Iteration 38, loss = 0.14528660\n",
      "Iteration 39, loss = 0.13949041\n",
      "Iteration 40, loss = 0.13415779\n",
      "Iteration 41, loss = 0.12932237\n",
      "Iteration 42, loss = 0.12484703\n",
      "Iteration 43, loss = 0.12079779\n",
      "Iteration 44, loss = 0.11705806\n",
      "Iteration 45, loss = 0.11355328\n",
      "Iteration 46, loss = 0.11038643\n",
      "Iteration 47, loss = 0.10751841\n",
      "Iteration 48, loss = 0.10479608\n",
      "Iteration 49, loss = 0.10231358\n",
      "Iteration 50, loss = 0.09989923\n",
      "0.9770354906054279\n",
      "[[591   7]\n",
      " [ 15 345]]\n"
     ]
    },
    {
     "name": "stderr",
     "output_type": "stream",
     "text": [
      "/home/student/Pulpit/aied/aied/lib/python3.6/site-packages/sklearn/neural_network/_multilayer_perceptron.py:571: ConvergenceWarning: Stochastic Optimizer: Maximum iterations (50) reached and the optimization hasn't converged yet.\n",
      "  % self.max_iter, ConvergenceWarning)\n"
     ]
    },
    {
     "data": {
      "image/png": "[encoded data removed]",
      "text/plain": [
       "<Figure size 432x288 with 2 Axes>"
      ]
     },
     "metadata": {
      "needs_background": "light"
     },
     "output_type": "display_data"
    }
   ],
   "source": [
    "clf = MLPClassifier(hidden_layer_sizes=(100,100,100), max_iter=50, alpha=0.0001,\n",
    "                     solver='sgd', verbose=10,  random_state=21,tol=0.000000001)\n",
    "clf.fit(X_train, y_train)\n",
    "y_pred = clf.predict(X_test)\n",
    "print(accuracy_score(y_test, y_pred))\n",
    "\n",
    "cm = confusion_matrix(y_test, y_pred)\n",
    "print(cm)\n",
    "sns.heatmap(cm, center=True)\n",
    "plt.show()"
   ]
  },
  {
   "cell_type": "markdown",
   "metadata": {},
   "source": [
    "Zwiększenie liczby iteracji do 100"
   ]
  },
  {
   "cell_type": "code",
   "execution_count": 14,
   "metadata": {},
   "outputs": [
    {
     "name": "stdout",
     "output_type": "stream",
     "text": [
      "Iteration 1, loss = 0.67603261\n",
      "Iteration 2, loss = 0.66676676\n",
      "Iteration 3, loss = 0.65715841\n",
      "Iteration 4, loss = 0.64888090\n",
      "Iteration 5, loss = 0.64130160\n",
      "Iteration 6, loss = 0.63403916\n",
      "Iteration 7, loss = 0.62670140\n",
      "Iteration 8, loss = 0.61906727\n",
      "Iteration 9, loss = 0.61087862\n",
      "Iteration 10, loss = 0.60192768\n",
      "Iteration 11, loss = 0.59208801\n",
      "Iteration 12, loss = 0.58122524\n",
      "Iteration 13, loss = 0.56904435\n",
      "Iteration 14, loss = 0.55533275\n",
      "Iteration 15, loss = 0.53990432\n",
      "Iteration 16, loss = 0.52295015\n",
      "Iteration 17, loss = 0.50409888\n",
      "Iteration 18, loss = 0.48345015\n",
      "Iteration 19, loss = 0.46120153\n",
      "Iteration 20, loss = 0.43758420\n",
      "Iteration 21, loss = 0.41307622\n",
      "Iteration 22, loss = 0.38797234\n",
      "Iteration 23, loss = 0.36291372\n",
      "Iteration 24, loss = 0.33852636\n",
      "Iteration 25, loss = 0.31532770\n",
      "Iteration 26, loss = 0.29357716\n",
      "Iteration 27, loss = 0.27336094\n",
      "Iteration 28, loss = 0.25493516\n",
      "Iteration 29, loss = 0.23807687\n",
      "Iteration 30, loss = 0.22287037\n",
      "Iteration 31, loss = 0.20912973\n",
      "Iteration 32, loss = 0.19680225\n",
      "Iteration 33, loss = 0.18573099\n",
      "Iteration 34, loss = 0.17589422\n",
      "Iteration 35, loss = 0.16702043\n",
      "Iteration 36, loss = 0.15904989\n",
      "Iteration 37, loss = 0.15182263\n",
      "Iteration 38, loss = 0.14528660\n",
      "Iteration 39, loss = 0.13949041\n",
      "Iteration 40, loss = 0.13415779\n",
      "Iteration 41, loss = 0.12932237\n",
      "Iteration 42, loss = 0.12484703\n",
      "Iteration 43, loss = 0.12079779\n",
      "Iteration 44, loss = 0.11705806\n",
      "Iteration 45, loss = 0.11355328\n",
      "Iteration 46, loss = 0.11038643\n",
      "Iteration 47, loss = 0.10751841\n",
      "Iteration 48, loss = 0.10479608\n",
      "Iteration 49, loss = 0.10231358\n",
      "Iteration 50, loss = 0.09989923\n",
      "Iteration 51, loss = 0.09769725\n",
      "Iteration 52, loss = 0.09561230\n",
      "Iteration 53, loss = 0.09366021\n",
      "Iteration 54, loss = 0.09185340\n",
      "Iteration 55, loss = 0.09014470\n",
      "Iteration 56, loss = 0.08851851\n",
      "Iteration 57, loss = 0.08700744\n",
      "Iteration 58, loss = 0.08557252\n",
      "Iteration 59, loss = 0.08419606\n",
      "Iteration 60, loss = 0.08287686\n",
      "Iteration 61, loss = 0.08166090\n",
      "Iteration 62, loss = 0.08048612\n",
      "Iteration 63, loss = 0.07939551\n",
      "Iteration 64, loss = 0.07831455\n",
      "Iteration 65, loss = 0.07726497\n",
      "Iteration 66, loss = 0.07628483\n",
      "Iteration 67, loss = 0.07530515\n",
      "Iteration 68, loss = 0.07443729\n",
      "Iteration 69, loss = 0.07354390\n",
      "Iteration 70, loss = 0.07272164\n",
      "Iteration 71, loss = 0.07192384\n",
      "Iteration 72, loss = 0.07115302\n",
      "Iteration 73, loss = 0.07043343\n",
      "Iteration 74, loss = 0.06977629\n",
      "Iteration 75, loss = 0.06903096\n",
      "Iteration 76, loss = 0.06837201\n",
      "Iteration 77, loss = 0.06774121\n",
      "Iteration 78, loss = 0.06709630\n",
      "Iteration 79, loss = 0.06645757\n",
      "Iteration 80, loss = 0.06591023\n",
      "Iteration 81, loss = 0.06534198\n",
      "Iteration 82, loss = 0.06478720\n",
      "Iteration 83, loss = 0.06428188\n",
      "Iteration 84, loss = 0.06375037\n",
      "Iteration 85, loss = 0.06325512\n",
      "Iteration 86, loss = 0.06273515\n",
      "Iteration 87, loss = 0.06223651\n",
      "Iteration 88, loss = 0.06174415\n",
      "Iteration 89, loss = 0.06131491\n",
      "Iteration 90, loss = 0.06082660\n",
      "Iteration 91, loss = 0.06046913\n",
      "Iteration 92, loss = 0.06003976\n",
      "Iteration 93, loss = 0.05955770\n",
      "Iteration 94, loss = 0.05911412\n",
      "Iteration 95, loss = 0.05870810\n",
      "Iteration 96, loss = 0.05829597\n",
      "Iteration 97, loss = 0.05791628\n",
      "Iteration 98, loss = 0.05756279\n",
      "Iteration 99, loss = 0.05733905\n",
      "Iteration 100, loss = 0.05685085\n",
      "0.9812108559498957\n",
      "[[592   6]\n",
      " [ 12 348]]\n"
     ]
    },
    {
     "name": "stderr",
     "output_type": "stream",
     "text": [
      "/home/student/Pulpit/aied/aied/lib/python3.6/site-packages/sklearn/neural_network/_multilayer_perceptron.py:571: ConvergenceWarning: Stochastic Optimizer: Maximum iterations (100) reached and the optimization hasn't converged yet.\n",
      "  % self.max_iter, ConvergenceWarning)\n"
     ]
    },
    {
     "data": {
      "image/png": "[encoded data removed]",
      "text/plain": [
       "<Figure size 432x288 with 2 Axes>"
      ]
     },
     "metadata": {
      "needs_background": "light"
     },
     "output_type": "display_data"
    }
   ],
   "source": [
    "clf = MLPClassifier(hidden_layer_sizes=(100,100,100), max_iter=100, alpha=0.0001,\n",
    "                     solver='sgd', verbose=10,  random_state=21,tol=0.000000001)\n",
    "clf.fit(X_train, y_train)\n",
    "y_pred = clf.predict(X_test)\n",
    "print(accuracy_score(y_test, y_pred))\n",
    "\n",
    "cm = confusion_matrix(y_test, y_pred)\n",
    "print(cm)\n",
    "sns.heatmap(cm, center=True)\n",
    "plt.show()"
   ]
  },
  {
   "cell_type": "markdown",
   "metadata": {},
   "source": [
    "Zwiększenie liczby iteracji do 500"
   ]
  },
  {
   "cell_type": "code",
   "execution_count": 15,
   "metadata": {},
   "outputs": [
    {
     "name": "stdout",
     "output_type": "stream",
     "text": [
      "Iteration 1, loss = 0.67603261\n",
      "Iteration 2, loss = 0.66676676\n",
      "Iteration 3, loss = 0.65715841\n",
      "Iteration 4, loss = 0.64888090\n",
      "Iteration 5, loss = 0.64130160\n",
      "Iteration 6, loss = 0.63403916\n",
      "Iteration 7, loss = 0.62670140\n",
      "Iteration 8, loss = 0.61906727\n",
      "Iteration 9, loss = 0.61087862\n",
      "Iteration 10, loss = 0.60192768\n",
      "Iteration 11, loss = 0.59208801\n",
      "Iteration 12, loss = 0.58122524\n",
      "Iteration 13, loss = 0.56904435\n",
      "Iteration 14, loss = 0.55533275\n",
      "Iteration 15, loss = 0.53990432\n",
      "Iteration 16, loss = 0.52295015\n",
      "Iteration 17, loss = 0.50409888\n",
      "Iteration 18, loss = 0.48345015\n",
      "Iteration 19, loss = 0.46120153\n",
      "Iteration 20, loss = 0.43758420\n",
      "Iteration 21, loss = 0.41307622\n",
      "Iteration 22, loss = 0.38797234\n",
      "Iteration 23, loss = 0.36291372\n",
      "Iteration 24, loss = 0.33852636\n",
      "Iteration 25, loss = 0.31532770\n",
      "Iteration 26, loss = 0.29357716\n",
      "Iteration 27, loss = 0.27336094\n",
      "Iteration 28, loss = 0.25493516\n",
      "Iteration 29, loss = 0.23807687\n",
      "Iteration 30, loss = 0.22287037\n",
      "Iteration 31, loss = 0.20912973\n",
      "Iteration 32, loss = 0.19680225\n",
      "Iteration 33, loss = 0.18573099\n",
      "Iteration 34, loss = 0.17589422\n",
      "Iteration 35, loss = 0.16702043\n",
      "Iteration 36, loss = 0.15904989\n",
      "Iteration 37, loss = 0.15182263\n",
      "Iteration 38, loss = 0.14528660\n",
      "Iteration 39, loss = 0.13949041\n",
      "Iteration 40, loss = 0.13415779\n",
      "Iteration 41, loss = 0.12932237\n",
      "Iteration 42, loss = 0.12484703\n",
      "Iteration 43, loss = 0.12079779\n",
      "Iteration 44, loss = 0.11705806\n",
      "Iteration 45, loss = 0.11355328\n",
      "Iteration 46, loss = 0.11038643\n",
      "Iteration 47, loss = 0.10751841\n",
      "Iteration 48, loss = 0.10479608\n",
      "Iteration 49, loss = 0.10231358\n",
      "Iteration 50, loss = 0.09989923\n",
      "Iteration 51, loss = 0.09769725\n",
      "Iteration 52, loss = 0.09561230\n",
      "Iteration 53, loss = 0.09366021\n",
      "Iteration 54, loss = 0.09185340\n",
      "Iteration 55, loss = 0.09014470\n",
      "Iteration 56, loss = 0.08851851\n",
      "Iteration 57, loss = 0.08700744\n",
      "Iteration 58, loss = 0.08557252\n",
      "Iteration 59, loss = 0.08419606\n",
      "Iteration 60, loss = 0.08287686\n",
      "Iteration 61, loss = 0.08166090\n",
      "Iteration 62, loss = 0.08048612\n",
      "Iteration 63, loss = 0.07939551\n",
      "Iteration 64, loss = 0.07831455\n",
      "Iteration 65, loss = 0.07726497\n",
      "Iteration 66, loss = 0.07628483\n",
      "Iteration 67, loss = 0.07530515\n",
      "Iteration 68, loss = 0.07443729\n",
      "Iteration 69, loss = 0.07354390\n",
      "Iteration 70, loss = 0.07272164\n",
      "Iteration 71, loss = 0.07192384\n",
      "Iteration 72, loss = 0.07115302\n",
      "Iteration 73, loss = 0.07043343\n",
      "Iteration 74, loss = 0.06977629\n",
      "Iteration 75, loss = 0.06903096\n",
      "Iteration 76, loss = 0.06837201\n",
      "Iteration 77, loss = 0.06774121\n",
      "Iteration 78, loss = 0.06709630\n",
      "Iteration 79, loss = 0.06645757\n",
      "Iteration 80, loss = 0.06591023\n",
      "Iteration 81, loss = 0.06534198\n",
      "Iteration 82, loss = 0.06478720\n",
      "Iteration 83, loss = 0.06428188\n",
      "Iteration 84, loss = 0.06375037\n",
      "Iteration 85, loss = 0.06325512\n",
      "Iteration 86, loss = 0.06273515\n",
      "Iteration 87, loss = 0.06223651\n",
      "Iteration 88, loss = 0.06174415\n",
      "Iteration 89, loss = 0.06131491\n",
      "Iteration 90, loss = 0.06082660\n",
      "Iteration 91, loss = 0.06046913\n",
      "Iteration 92, loss = 0.06003976\n",
      "Iteration 93, loss = 0.05955770\n",
      "Iteration 94, loss = 0.05911412\n",
      "Iteration 95, loss = 0.05870810\n",
      "Iteration 96, loss = 0.05829597\n",
      "Iteration 97, loss = 0.05791628\n",
      "Iteration 98, loss = 0.05756279\n",
      "Iteration 99, loss = 0.05733905\n",
      "Iteration 100, loss = 0.05685085\n",
      "Iteration 101, loss = 0.05643700\n",
      "Iteration 102, loss = 0.05609018\n",
      "Iteration 103, loss = 0.05575823\n",
      "Iteration 104, loss = 0.05541445\n",
      "Iteration 105, loss = 0.05510128\n",
      "Iteration 106, loss = 0.05478440\n",
      "Iteration 107, loss = 0.05443709\n",
      "Iteration 108, loss = 0.05408953\n",
      "Iteration 109, loss = 0.05379008\n",
      "Iteration 110, loss = 0.05348816\n",
      "Iteration 111, loss = 0.05327070\n",
      "Iteration 112, loss = 0.05293193\n",
      "Iteration 113, loss = 0.05262538\n",
      "Iteration 114, loss = 0.05232892\n",
      "Iteration 115, loss = 0.05201473\n",
      "Iteration 116, loss = 0.05170665\n",
      "Iteration 117, loss = 0.05141541\n",
      "Iteration 118, loss = 0.05115287\n",
      "Iteration 119, loss = 0.05089249\n",
      "Iteration 120, loss = 0.05070243\n",
      "Iteration 121, loss = 0.05035409\n",
      "Iteration 122, loss = 0.05011833\n",
      "Iteration 123, loss = 0.04988217\n",
      "Iteration 124, loss = 0.04963081\n",
      "Iteration 125, loss = 0.04941026\n",
      "Iteration 126, loss = 0.04918189\n",
      "Iteration 127, loss = 0.04889080\n",
      "Iteration 128, loss = 0.04869562\n",
      "Iteration 129, loss = 0.04842287\n",
      "Iteration 130, loss = 0.04822685\n",
      "Iteration 131, loss = 0.04798039\n",
      "Iteration 132, loss = 0.04776104\n",
      "Iteration 133, loss = 0.04757033\n",
      "Iteration 134, loss = 0.04738371\n",
      "Iteration 135, loss = 0.04712792\n",
      "Iteration 136, loss = 0.04692789\n",
      "Iteration 137, loss = 0.04671107\n",
      "Iteration 138, loss = 0.04651594\n",
      "Iteration 139, loss = 0.04633829\n",
      "Iteration 140, loss = 0.04610770\n",
      "Iteration 141, loss = 0.04588874\n",
      "Iteration 142, loss = 0.04570422\n",
      "Iteration 143, loss = 0.04554839\n",
      "Iteration 144, loss = 0.04532202\n",
      "Iteration 145, loss = 0.04513005\n",
      "Iteration 146, loss = 0.04494504\n",
      "Iteration 147, loss = 0.04476528\n",
      "Iteration 148, loss = 0.04461040\n",
      "Iteration 149, loss = 0.04440978\n",
      "Iteration 150, loss = 0.04423178\n",
      "Iteration 151, loss = 0.04404935\n",
      "Iteration 152, loss = 0.04387032\n",
      "Iteration 153, loss = 0.04375068\n",
      "Iteration 154, loss = 0.04352285\n",
      "Iteration 155, loss = 0.04333616\n",
      "Iteration 156, loss = 0.04316289\n",
      "Iteration 157, loss = 0.04299963\n",
      "Iteration 158, loss = 0.04285779\n",
      "Iteration 159, loss = 0.04266829\n",
      "Iteration 160, loss = 0.04251251\n",
      "Iteration 161, loss = 0.04234213\n",
      "Iteration 162, loss = 0.04220006\n",
      "Iteration 163, loss = 0.04203390\n",
      "Iteration 164, loss = 0.04187690\n",
      "Iteration 165, loss = 0.04174104\n",
      "Iteration 166, loss = 0.04156648\n",
      "Iteration 167, loss = 0.04142049\n",
      "Iteration 168, loss = 0.04129942\n",
      "Iteration 169, loss = 0.04115117\n",
      "Iteration 170, loss = 0.04100365\n",
      "Iteration 171, loss = 0.04084703\n",
      "Iteration 172, loss = 0.04070946\n",
      "Iteration 173, loss = 0.04059614\n",
      "Iteration 174, loss = 0.04045387\n",
      "Iteration 175, loss = 0.04031925\n",
      "Iteration 176, loss = 0.04016465\n",
      "Iteration 177, loss = 0.04001813\n",
      "Iteration 178, loss = 0.03989146\n",
      "Iteration 179, loss = 0.03976330\n",
      "Iteration 180, loss = 0.03960986\n",
      "Iteration 181, loss = 0.03947766\n",
      "Iteration 182, loss = 0.03934793\n",
      "Iteration 183, loss = 0.03922802\n",
      "Iteration 184, loss = 0.03914911\n",
      "Iteration 185, loss = 0.03900434\n",
      "Iteration 186, loss = 0.03889138\n",
      "Iteration 187, loss = 0.03873765\n",
      "Iteration 188, loss = 0.03858562\n",
      "Iteration 189, loss = 0.03848978\n",
      "Iteration 190, loss = 0.03840820\n",
      "Iteration 191, loss = 0.03830885\n",
      "Iteration 192, loss = 0.03812342\n",
      "Iteration 193, loss = 0.03800738\n",
      "Iteration 194, loss = 0.03793340\n",
      "Iteration 195, loss = 0.03781027\n",
      "Iteration 196, loss = 0.03763751\n",
      "Iteration 197, loss = 0.03754936\n",
      "Iteration 198, loss = 0.03737207\n",
      "Iteration 199, loss = 0.03727330\n",
      "Iteration 200, loss = 0.03716092\n",
      "Iteration 201, loss = 0.03706036\n",
      "Iteration 202, loss = 0.03695720\n",
      "Iteration 203, loss = 0.03681579\n",
      "Iteration 204, loss = 0.03673143\n",
      "Iteration 205, loss = 0.03660043\n",
      "Iteration 206, loss = 0.03648796\n",
      "Iteration 207, loss = 0.03638927\n",
      "Iteration 208, loss = 0.03629673\n",
      "Iteration 209, loss = 0.03615586\n",
      "Iteration 210, loss = 0.03607127\n",
      "Iteration 211, loss = 0.03596878\n",
      "Iteration 212, loss = 0.03585617\n",
      "Iteration 213, loss = 0.03580287\n",
      "Iteration 214, loss = 0.03566307\n",
      "Iteration 215, loss = 0.03554571\n",
      "Iteration 216, loss = 0.03548065\n",
      "Iteration 217, loss = 0.03538064\n",
      "Iteration 218, loss = 0.03520408\n",
      "Iteration 219, loss = 0.03513668\n",
      "Iteration 220, loss = 0.03504796\n",
      "Iteration 221, loss = 0.03492377\n",
      "Iteration 222, loss = 0.03479744\n",
      "Iteration 223, loss = 0.03478462\n",
      "Iteration 224, loss = 0.03462334\n",
      "Iteration 225, loss = 0.03450570\n",
      "Iteration 226, loss = 0.03441249\n",
      "Iteration 227, loss = 0.03435358\n",
      "Iteration 228, loss = 0.03427917\n",
      "Iteration 229, loss = 0.03412290\n",
      "Iteration 230, loss = 0.03408242\n",
      "Iteration 231, loss = 0.03395993\n",
      "Iteration 232, loss = 0.03384340\n",
      "Iteration 233, loss = 0.03378657\n",
      "Iteration 234, loss = 0.03365419\n",
      "Iteration 235, loss = 0.03359406\n",
      "Iteration 236, loss = 0.03346715\n",
      "Iteration 237, loss = 0.03337592\n",
      "Iteration 238, loss = 0.03331403\n",
      "Iteration 239, loss = 0.03319153\n",
      "Iteration 240, loss = 0.03311140\n",
      "Iteration 241, loss = 0.03301700\n",
      "Iteration 242, loss = 0.03291775\n",
      "Iteration 243, loss = 0.03284774\n",
      "Iteration 244, loss = 0.03274943\n",
      "Iteration 245, loss = 0.03268691\n",
      "Iteration 246, loss = 0.03255238\n",
      "Iteration 247, loss = 0.03245791\n",
      "Iteration 248, loss = 0.03238505\n",
      "Iteration 249, loss = 0.03228464\n",
      "Iteration 250, loss = 0.03219718\n",
      "Iteration 251, loss = 0.03209682\n",
      "Iteration 252, loss = 0.03209214\n"
     ]
    },
    {
     "name": "stdout",
     "output_type": "stream",
     "text": [
      "Iteration 253, loss = 0.03194713\n",
      "Iteration 254, loss = 0.03185772\n",
      "Iteration 255, loss = 0.03177891\n",
      "Iteration 256, loss = 0.03175082\n",
      "Iteration 257, loss = 0.03158282\n",
      "Iteration 258, loss = 0.03156701\n",
      "Iteration 259, loss = 0.03147557\n",
      "Iteration 260, loss = 0.03138422\n",
      "Iteration 261, loss = 0.03128340\n",
      "Iteration 262, loss = 0.03120019\n",
      "Iteration 263, loss = 0.03111763\n",
      "Iteration 264, loss = 0.03104008\n",
      "Iteration 265, loss = 0.03101106\n",
      "Iteration 266, loss = 0.03088830\n",
      "Iteration 267, loss = 0.03077875\n",
      "Iteration 268, loss = 0.03072963\n",
      "Iteration 269, loss = 0.03070508\n",
      "Iteration 270, loss = 0.03055037\n",
      "Iteration 271, loss = 0.03044357\n",
      "Iteration 272, loss = 0.03039948\n",
      "Iteration 273, loss = 0.03029817\n",
      "Iteration 274, loss = 0.03021434\n",
      "Iteration 275, loss = 0.03015074\n",
      "Iteration 276, loss = 0.03003172\n",
      "Iteration 277, loss = 0.03001198\n",
      "Iteration 278, loss = 0.02991803\n",
      "Iteration 279, loss = 0.02978370\n",
      "Iteration 280, loss = 0.02972248\n",
      "Iteration 281, loss = 0.02968925\n",
      "Iteration 282, loss = 0.02958712\n",
      "Iteration 283, loss = 0.02950004\n",
      "Iteration 284, loss = 0.02943327\n",
      "Iteration 285, loss = 0.02934015\n",
      "Iteration 286, loss = 0.02932174\n",
      "Iteration 287, loss = 0.02929391\n",
      "Iteration 288, loss = 0.02914904\n",
      "Iteration 289, loss = 0.02903313\n",
      "Iteration 290, loss = 0.02901516\n",
      "Iteration 291, loss = 0.02889787\n",
      "Iteration 292, loss = 0.02882999\n",
      "Iteration 293, loss = 0.02875855\n",
      "Iteration 294, loss = 0.02866383\n",
      "Iteration 295, loss = 0.02862926\n",
      "Iteration 296, loss = 0.02855341\n",
      "Iteration 297, loss = 0.02846510\n",
      "Iteration 298, loss = 0.02841108\n",
      "Iteration 299, loss = 0.02832348\n",
      "Iteration 300, loss = 0.02824964\n",
      "Iteration 301, loss = 0.02818698\n",
      "Iteration 302, loss = 0.02811993\n",
      "Iteration 303, loss = 0.02803722\n",
      "Iteration 304, loss = 0.02794315\n",
      "Iteration 305, loss = 0.02787369\n",
      "Iteration 306, loss = 0.02781227\n",
      "Iteration 307, loss = 0.02774534\n",
      "Iteration 308, loss = 0.02766447\n",
      "Iteration 309, loss = 0.02757443\n",
      "Iteration 310, loss = 0.02750811\n",
      "Iteration 311, loss = 0.02742771\n",
      "Iteration 312, loss = 0.02736312\n",
      "Iteration 313, loss = 0.02730007\n",
      "Iteration 314, loss = 0.02724568\n",
      "Iteration 315, loss = 0.02725915\n",
      "Iteration 316, loss = 0.02706562\n",
      "Iteration 317, loss = 0.02701407\n",
      "Iteration 318, loss = 0.02696469\n",
      "Iteration 319, loss = 0.02687489\n",
      "Iteration 320, loss = 0.02682990\n",
      "Iteration 321, loss = 0.02676349\n",
      "Iteration 322, loss = 0.02677709\n",
      "Iteration 323, loss = 0.02658418\n",
      "Iteration 324, loss = 0.02651625\n",
      "Iteration 325, loss = 0.02651749\n",
      "Iteration 326, loss = 0.02643813\n",
      "Iteration 327, loss = 0.02629504\n",
      "Iteration 328, loss = 0.02623980\n",
      "Iteration 329, loss = 0.02619389\n",
      "Iteration 330, loss = 0.02610753\n",
      "Iteration 331, loss = 0.02605250\n",
      "Iteration 332, loss = 0.02601793\n",
      "Iteration 333, loss = 0.02592808\n",
      "Iteration 334, loss = 0.02582514\n",
      "Iteration 335, loss = 0.02578236\n",
      "Iteration 336, loss = 0.02571919\n",
      "Iteration 337, loss = 0.02564993\n",
      "Iteration 338, loss = 0.02558724\n",
      "Iteration 339, loss = 0.02551653\n",
      "Iteration 340, loss = 0.02547058\n",
      "Iteration 341, loss = 0.02539656\n",
      "Iteration 342, loss = 0.02543283\n",
      "Iteration 343, loss = 0.02527761\n",
      "Iteration 344, loss = 0.02520523\n",
      "Iteration 345, loss = 0.02516040\n",
      "Iteration 346, loss = 0.02512774\n",
      "Iteration 347, loss = 0.02503769\n",
      "Iteration 348, loss = 0.02497272\n",
      "Iteration 349, loss = 0.02490837\n",
      "Iteration 350, loss = 0.02484428\n",
      "Iteration 351, loss = 0.02479862\n",
      "Iteration 352, loss = 0.02473775\n",
      "Iteration 353, loss = 0.02467273\n",
      "Iteration 354, loss = 0.02468744\n",
      "Iteration 355, loss = 0.02456389\n",
      "Iteration 356, loss = 0.02448705\n",
      "Iteration 357, loss = 0.02442310\n",
      "Iteration 358, loss = 0.02438495\n",
      "Iteration 359, loss = 0.02438930\n",
      "Iteration 360, loss = 0.02430079\n",
      "Iteration 361, loss = 0.02420235\n",
      "Iteration 362, loss = 0.02417921\n",
      "Iteration 363, loss = 0.02408767\n",
      "Iteration 364, loss = 0.02404809\n",
      "Iteration 365, loss = 0.02397480\n",
      "Iteration 366, loss = 0.02392328\n",
      "Iteration 367, loss = 0.02392649\n",
      "Iteration 368, loss = 0.02384881\n",
      "Iteration 369, loss = 0.02376198\n",
      "Iteration 370, loss = 0.02372937\n",
      "Iteration 371, loss = 0.02365235\n",
      "Iteration 372, loss = 0.02361332\n",
      "Iteration 373, loss = 0.02355723\n",
      "Iteration 374, loss = 0.02354233\n",
      "Iteration 375, loss = 0.02346438\n",
      "Iteration 376, loss = 0.02343197\n",
      "Iteration 377, loss = 0.02336484\n",
      "Iteration 378, loss = 0.02333776\n",
      "Iteration 379, loss = 0.02325893\n",
      "Iteration 380, loss = 0.02321069\n",
      "Iteration 381, loss = 0.02317237\n",
      "Iteration 382, loss = 0.02310117\n",
      "Iteration 383, loss = 0.02309723\n",
      "Iteration 384, loss = 0.02298351\n",
      "Iteration 385, loss = 0.02298139\n",
      "Iteration 386, loss = 0.02289017\n",
      "Iteration 387, loss = 0.02284947\n",
      "Iteration 388, loss = 0.02278123\n",
      "Iteration 389, loss = 0.02275191\n",
      "Iteration 390, loss = 0.02275330\n",
      "Iteration 391, loss = 0.02266232\n",
      "Iteration 392, loss = 0.02261239\n",
      "Iteration 393, loss = 0.02257893\n",
      "Iteration 394, loss = 0.02251164\n",
      "Iteration 395, loss = 0.02248698\n",
      "Iteration 396, loss = 0.02261602\n",
      "Iteration 397, loss = 0.02241470\n",
      "Iteration 398, loss = 0.02233249\n",
      "Iteration 399, loss = 0.02227445\n",
      "Iteration 400, loss = 0.02228449\n",
      "Iteration 401, loss = 0.02219980\n",
      "Iteration 402, loss = 0.02214101\n",
      "Iteration 403, loss = 0.02210181\n",
      "Iteration 404, loss = 0.02208684\n",
      "Iteration 405, loss = 0.02200237\n",
      "Iteration 406, loss = 0.02197086\n",
      "Iteration 407, loss = 0.02192947\n",
      "Iteration 408, loss = 0.02188616\n",
      "Iteration 409, loss = 0.02188521\n",
      "Iteration 410, loss = 0.02181329\n",
      "Iteration 411, loss = 0.02175948\n",
      "Iteration 412, loss = 0.02169974\n",
      "Iteration 413, loss = 0.02166556\n",
      "Iteration 414, loss = 0.02162697\n",
      "Iteration 415, loss = 0.02159204\n",
      "Iteration 416, loss = 0.02158324\n",
      "Iteration 417, loss = 0.02150603\n",
      "Iteration 418, loss = 0.02144839\n",
      "Iteration 419, loss = 0.02144591\n",
      "Iteration 420, loss = 0.02138510\n",
      "Iteration 421, loss = 0.02137547\n",
      "Iteration 422, loss = 0.02129241\n",
      "Iteration 423, loss = 0.02123979\n",
      "Iteration 424, loss = 0.02121746\n",
      "Iteration 425, loss = 0.02117304\n",
      "Iteration 426, loss = 0.02113084\n",
      "Iteration 427, loss = 0.02108022\n",
      "Iteration 428, loss = 0.02105648\n",
      "Iteration 429, loss = 0.02102249\n",
      "Iteration 430, loss = 0.02096617\n",
      "Iteration 431, loss = 0.02103661\n",
      "Iteration 432, loss = 0.02091698\n",
      "Iteration 433, loss = 0.02086964\n",
      "Iteration 434, loss = 0.02082719\n",
      "Iteration 435, loss = 0.02078235\n",
      "Iteration 436, loss = 0.02074729\n",
      "Iteration 437, loss = 0.02072611\n",
      "Iteration 438, loss = 0.02071290\n",
      "Iteration 439, loss = 0.02063119\n",
      "Iteration 440, loss = 0.02061128\n",
      "Iteration 441, loss = 0.02056515\n",
      "Iteration 442, loss = 0.02053264\n",
      "Iteration 443, loss = 0.02049757\n",
      "Iteration 444, loss = 0.02046552\n",
      "Iteration 445, loss = 0.02042019\n",
      "Iteration 446, loss = 0.02037653\n",
      "Iteration 447, loss = 0.02033397\n",
      "Iteration 448, loss = 0.02030154\n",
      "Iteration 449, loss = 0.02027381\n",
      "Iteration 450, loss = 0.02022339\n",
      "Iteration 451, loss = 0.02021533\n",
      "Iteration 452, loss = 0.02017462\n",
      "Iteration 453, loss = 0.02012815\n",
      "Iteration 454, loss = 0.02011393\n",
      "Iteration 455, loss = 0.02008324\n",
      "Iteration 456, loss = 0.02002945\n",
      "Iteration 457, loss = 0.02000273\n",
      "Iteration 458, loss = 0.02001349\n",
      "Iteration 459, loss = 0.01991941\n",
      "Iteration 460, loss = 0.01989140\n",
      "Iteration 461, loss = 0.01984981\n",
      "Iteration 462, loss = 0.01981850\n",
      "Iteration 463, loss = 0.01977708\n",
      "Iteration 464, loss = 0.01976485\n",
      "Iteration 465, loss = 0.01972576\n",
      "Iteration 466, loss = 0.01971661\n",
      "Iteration 467, loss = 0.01964497\n",
      "Iteration 468, loss = 0.01962331\n",
      "Iteration 469, loss = 0.01959298\n",
      "Iteration 470, loss = 0.01954771\n",
      "Iteration 471, loss = 0.01959199\n",
      "Iteration 472, loss = 0.01949873\n",
      "Iteration 473, loss = 0.01946441\n",
      "Iteration 474, loss = 0.01948894\n",
      "Iteration 475, loss = 0.01938682\n",
      "Iteration 476, loss = 0.01937798\n",
      "Iteration 477, loss = 0.01933578\n",
      "Iteration 478, loss = 0.01928525\n",
      "Iteration 479, loss = 0.01926963\n",
      "Iteration 480, loss = 0.01924981\n",
      "Iteration 481, loss = 0.01922710\n",
      "Iteration 482, loss = 0.01916701\n",
      "Iteration 483, loss = 0.01913098\n",
      "Iteration 484, loss = 0.01908676\n",
      "Iteration 485, loss = 0.01910491\n",
      "Iteration 486, loss = 0.01907516\n",
      "Iteration 487, loss = 0.01905357\n",
      "Iteration 488, loss = 0.01897610\n",
      "Iteration 489, loss = 0.01895998\n",
      "Iteration 490, loss = 0.01892049\n",
      "Iteration 491, loss = 0.01888649\n",
      "Iteration 492, loss = 0.01885773\n",
      "Iteration 493, loss = 0.01880814\n",
      "Iteration 494, loss = 0.01878075\n",
      "Iteration 495, loss = 0.01875465\n",
      "Iteration 496, loss = 0.01873011\n",
      "Iteration 497, loss = 0.01871571\n",
      "Iteration 498, loss = 0.01874201\n",
      "Iteration 499, loss = 0.01865940\n",
      "Iteration 500, loss = 0.01861900\n",
      "0.9812108559498957\n",
      "[[589   9]\n",
      " [  9 351]]\n"
     ]
    },
    {
     "name": "stderr",
     "output_type": "stream",
     "text": [
      "/home/student/Pulpit/aied/aied/lib/python3.6/site-packages/sklearn/neural_network/_multilayer_perceptron.py:571: ConvergenceWarning: Stochastic Optimizer: Maximum iterations (500) reached and the optimization hasn't converged yet.\n",
      "  % self.max_iter, ConvergenceWarning)\n"
     ]
    },
    {
     "data": {
      "image/png": "[encoded data removed]",
      "text/plain": [
       "<Figure size 432x288 with 2 Axes>"
      ]
     },
     "metadata": {
      "needs_background": "light"
     },
     "output_type": "display_data"
    }
   ],
   "source": [
    "clf = MLPClassifier(hidden_layer_sizes=(100,100,100), max_iter=500, alpha=0.0001,\n",
    "                     solver='sgd', verbose=10,  random_state=21,tol=0.000000001)\n",
    "clf.fit(X_train, y_train)\n",
    "y_pred = clf.predict(X_test)\n",
    "print(accuracy_score(y_test, y_pred))\n",
    "\n",
    "cm = confusion_matrix(y_test, y_pred)\n",
    "print(cm)\n",
    "sns.heatmap(cm, center=True)\n",
    "plt.show()"
   ]
  },
  {
   "cell_type": "markdown",
   "metadata": {},
   "source": [
    "### 5.4 SVM"
   ]
  },
  {
   "cell_type": "markdown",
   "metadata": {},
   "source": [
    "Klasyfikacja na domyślnym kernelu."
   ]
  },
  {
   "cell_type": "code",
   "execution_count": 16,
   "metadata": {},
   "outputs": [
    {
     "name": "stdout",
     "output_type": "stream",
     "text": [
      "Default kernel accuracy score:\n",
      "0.9853862212943633\n",
      "0.9853862212943633\n",
      "[[594   4]\n",
      " [ 10 350]]\n"
     ]
    },
    {
     "data": {
      "image/png": "[encoded data removed]",
      "text/plain": [
       "<Figure size 432x288 with 2 Axes>"
      ]
     },
     "metadata": {
      "needs_background": "light"
     },
     "output_type": "display_data"
    }
   ],
   "source": [
    "svc=SVC() #Default hyperparameters\n",
    "svc.fit(X_train,y_train)\n",
    "y_pred=svc.predict(X_test)\n",
    "print('Default kernel accuracy score:')\n",
    "print(metrics.accuracy_score(y_test,y_pred))\n",
    "y_pred = svc.predict(X_test)\n",
    "print(accuracy_score(y_test, y_pred))\n",
    "cm = confusion_matrix(y_test, y_pred)\n",
    "print(cm)\n",
    "sns.heatmap(cm, center=True)\n",
    "plt.show()"
   ]
  },
  {
   "cell_type": "markdown",
   "metadata": {},
   "source": [
    "Klasyfikacja na domyślnym kernelu liniowym."
   ]
  },
  {
   "cell_type": "code",
   "execution_count": 17,
   "metadata": {},
   "outputs": [
    {
     "name": "stdout",
     "output_type": "stream",
     "text": [
      "Default linear kernel Accuracy score:\n",
      "0.9874739039665971\n",
      "0.9874739039665971\n",
      "[[595   3]\n",
      " [  9 351]]\n"
     ]
    },
    {
     "data": {
      "image/png": "[encoded data removed]",
      "text/plain": [
       "<Figure size 432x288 with 2 Axes>"
      ]
     },
     "metadata": {
      "needs_background": "light"
     },
     "output_type": "display_data"
    }
   ],
   "source": [
    "svc=SVC(kernel='linear')\n",
    "svc.fit(X_train,y_train)\n",
    "y_pred=svc.predict(X_test)\n",
    "print('Default linear kernel Accuracy score:')\n",
    "print(metrics.accuracy_score(y_test,y_pred))\n",
    "y_pred = svc.predict(X_test)\n",
    "print(accuracy_score(y_test, y_pred))\n",
    "cm = confusion_matrix(y_test, y_pred)\n",
    "print(cm)\n",
    "sns.heatmap(cm, center=True)\n",
    "plt.show()"
   ]
  },
  {
   "cell_type": "markdown",
   "metadata": {},
   "source": [
    "Klasyfikacja na kernelu RBF."
   ]
  },
  {
   "cell_type": "code",
   "execution_count": 18,
   "metadata": {},
   "outputs": [
    {
     "name": "stdout",
     "output_type": "stream",
     "text": [
      "Default RBF kernel accuracy score:\n",
      "0.9853862212943633\n",
      "0.9853862212943633\n",
      "[[594   4]\n",
      " [ 10 350]]\n"
     ]
    },
    {
     "data": {
      "image/png": "[encoded data removed]",
      "text/plain": [
       "<Figure size 432x288 with 2 Axes>"
      ]
     },
     "metadata": {
      "needs_background": "light"
     },
     "output_type": "display_data"
    }
   ],
   "source": [
    "svc=SVC(kernel='rbf')\n",
    "svc.fit(X_train,y_train)\n",
    "y_pred=svc.predict(X_test)\n",
    "print('Default RBF kernel accuracy score:')\n",
    "print(metrics.accuracy_score(y_test,y_pred))\n",
    "y_pred = svc.predict(X_test)\n",
    "print(accuracy_score(y_test, y_pred))\n",
    "cm = confusion_matrix(y_test, y_pred)\n",
    "print(cm)\n",
    "sns.heatmap(cm, center=True)\n",
    "plt.show()"
   ]
  },
  {
   "cell_type": "markdown",
   "metadata": {},
   "source": [
    "Klasyfikacja na modelu wielomianowym."
   ]
  },
  {
   "cell_type": "code",
   "execution_count": 19,
   "metadata": {},
   "outputs": [
    {
     "name": "stdout",
     "output_type": "stream",
     "text": [
      "Default polynomial accuracy score:\n",
      "0.9613778705636743\n",
      "0.9613778705636743\n",
      "[[598   0]\n",
      " [ 37 323]]\n"
     ]
    },
    {
     "data": {
      "image/png": "[encoded data removed]",
      "text/plain": [
       "<Figure size 432x288 with 2 Axes>"
      ]
     },
     "metadata": {
      "needs_background": "light"
     },
     "output_type": "display_data"
    }
   ],
   "source": [
    "svc=SVC(kernel='poly')\n",
    "svc.fit(X_train,y_train)\n",
    "y_pred=svc.predict(X_test)\n",
    "print('Default polynomial accuracy score:')\n",
    "print(metrics.accuracy_score(y_test,y_pred))\n",
    "y_pred = svc.predict(X_test)\n",
    "print(accuracy_score(y_test, y_pred))\n",
    "cm = confusion_matrix(y_test, y_pred)\n",
    "print(cm)\n",
    "sns.heatmap(cm, center=True)\n",
    "plt.show()"
   ]
  },
  {
   "cell_type": "markdown",
   "metadata": {},
   "source": [
    "## 6. Podsumowanie\n",
    "\n",
    "Efektywność tesotwanych metod jest bardzo wysoka - średnia jakość to ok 98%. Klasyfikator SVM osiągał zauważalnie niższe wyniki, szczególnie na kernelu wielomianowym. Ręcznie utworzona sieć neuronowa oferowała nieznacznie wiekszą jakośc klasyfikacji w porównaniu do klasyfikatora MLP. \n",
    "\n",
    "Na jakość modelu sieci neuronowej wpływ miało zwiekszenie ilośći epok oraz ilości warstw Dense, zmiana funkcji aktywacji i dodawanie kolejnym wartstw nie wpływało na jakość modelu.\n",
    "\n",
    "W przypadku klasyfikatora MLP zwiększenie ilości iteracji oraz rozmiaru warstwy ukrytej zwiększa jakość dostarczanych rozwiązań.\n",
    "\n",
    "Dla klasyfikatora SVM najlepsze wyniki oferuje kernel RBF."
   ]
  }
 ],
 "metadata": {
  "kernelspec": {
   "display_name": "Python 3",
   "language": "python",
   "name": "python3"
  },
  "language_info": {
   "codemirror_mode": {
    "name": "ipython",
    "version": 3
   },
   "file_extension": ".py",
   "mimetype": "text/x-python",
   "name": "python",
   "nbconvert_exporter": "python",
   "pygments_lexer": "ipython3",
   "version": "3.6.9"
  }
 },
 "nbformat": 4,
 "nbformat_minor": 4
}
