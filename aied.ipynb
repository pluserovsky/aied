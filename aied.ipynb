{
 "cells": [
  {
   "cell_type": "code",
   "execution_count": 9,
   "metadata": {},
   "outputs": [],
   "source": [
    "#!/usr/bin/env python3\n",
    "import pandas as pd\n",
    "import tensorflow as tf\n",
    "from tensorflow import keras\n",
    "from sklearn.model_selection import train_test_split\n",
    "import numpy as np"
   ]
  },
  {
   "cell_type": "code",
   "execution_count": 10,
   "metadata": {},
   "outputs": [
    {
     "name": "stdout",
     "output_type": "stream",
     "text": [
      "   ACT_NOW  ADDRESSES_ON_CD  ADULT_SITE  ADVERT_CODE  ADVERT_CODE2  \\\n",
      "0        0                0           0            0             0   \n",
      "1        0                0           0            0             0   \n",
      "2        0                0           0            0             0   \n",
      "3        0                0           0            0             0   \n",
      "4        0                0           0            0             0   \n",
      "\n",
      "   ALL_CAPS_HEADER  ALL_CAP_PORN  ALL_NATURAL  AMATEUR_PORN  AMAZING  ...  \\\n",
      "0                0             0            0             0        0  ...   \n",
      "1                0             0            0             0        0  ...   \n",
      "2                0             0            0             0        0  ...   \n",
      "3                0             0            0             0        0  ...   \n",
      "4                0             0            0             0        0  ...   \n",
      "\n",
      "   X_ENC_PRESENT  X_LIBRARY  X_LIST_UNSUBSCRIBE  X_MSMAIL_PRIORITY_HIGH  \\\n",
      "0              0          0                   0                       0   \n",
      "1              0          0                   0                       0   \n",
      "2              0          0                   0                       0   \n",
      "3              0          0                   0                       0   \n",
      "4              0          0                   0                       0   \n",
      "\n",
      "   X_PRECEDENCE_REF  X_PRIORITY_HIGH  X_STORMPOST_TO  X_X_PRESENT  \\\n",
      "0                 0                0               0            0   \n",
      "1                 0                0               0            0   \n",
      "2                 0                0               0            0   \n",
      "3                 0                0               0            0   \n",
      "4                 0                0               0            0   \n",
      "\n",
      "   YOUR_INCOME  target  \n",
      "0            0     yes  \n",
      "1            0      no  \n",
      "2            0     yes  \n",
      "3            0      no  \n",
      "4            0     yes  \n",
      "\n",
      "[5 rows x 463 columns]\n"
     ]
    }
   ],
   "source": [
    "df = pd.read_csv('dane_dm/spam.dat')\n",
    "print(df.head())\n"
   ]
  },
  {
   "cell_type": "code",
   "execution_count": 11,
   "metadata": {
    "scrolled": true
   },
   "outputs": [],
   "source": [
    "properties = list(df.columns.values)\n",
    "properties.remove('target')\n",
    "X = df[properties]\n",
    "Y = df['target']\n",
    "y = Y.replace(to_replace=['no', 'yes'], value=[0, 1])\n"
   ]
  },
  {
   "cell_type": "code",
   "execution_count": 12,
   "metadata": {},
   "outputs": [
    {
     "name": "stdout",
     "output_type": "stream",
     "text": [
      "Epoch 1/10\n",
      "3352/3352 [==============================] - 0s 95us/sample - loss: 0.4266 - acc: 0.9183\n",
      "Epoch 2/10\n",
      "3352/3352 [==============================] - 0s 58us/sample - loss: 0.0887 - acc: 0.9800\n",
      "Epoch 3/10\n",
      "3352/3352 [==============================] - 0s 60us/sample - loss: 0.0504 - acc: 0.9845\n",
      "Epoch 4/10\n",
      "3352/3352 [==============================] - 0s 59us/sample - loss: 0.0386 - acc: 0.9887\n",
      "Epoch 5/10\n",
      "3352/3352 [==============================] - 0s 61us/sample - loss: 0.0322 - acc: 0.9902\n",
      "Epoch 6/10\n",
      "3352/3352 [==============================] - 0s 74us/sample - loss: 0.0281 - acc: 0.9902\n",
      "Epoch 7/10\n",
      "3352/3352 [==============================] - 0s 63us/sample - loss: 0.0250 - acc: 0.9902\n",
      "Epoch 8/10\n",
      "3352/3352 [==============================] - 0s 73us/sample - loss: 0.0225 - acc: 0.9916\n",
      "Epoch 9/10\n",
      "3352/3352 [==============================] - 0s 66us/sample - loss: 0.0204 - acc: 0.9919\n",
      "Epoch 10/10\n",
      "3352/3352 [==============================] - 0s 70us/sample - loss: 0.0191 - acc: 0.9931\n",
      "1437/1437 [==============================] - 0s 67us/sample - loss: 0.0817 - acc: 0.9784\n"
     ]
    }
   ],
   "source": [
    "X_train, X_test, y_train, y_test = train_test_split(X, y, test_size=0.3, random_state=0)\n",
    "\n",
    "model = keras.Sequential([\n",
    "    keras.layers.Flatten(input_shape=(462,)),\n",
    "    keras.layers.Dense(16, activation=tf.nn.relu),\n",
    "\tkeras.layers.Dense(16, activation=tf.nn.relu),\n",
    "    keras.layers.Dense(1, activation=tf.nn.sigmoid),\n",
    "])\n",
    "\n",
    "model.compile(optimizer='adam',\n",
    "              loss='binary_crossentropy',\n",
    "              metrics=['accuracy'])\n",
    "\n",
    "model.fit(X_train, y_train, epochs=10, batch_size=32)\n",
    "\n",
    "test_loss, test_acc = model.evaluate(X_test, y_test)\n"
   ]
  },
  {
   "cell_type": "code",
   "execution_count": 7,
   "metadata": {},
   "outputs": [
    {
     "name": "stdout",
     "output_type": "stream",
     "text": [
      "Test accuracy: 0.98051494\n"
     ]
    }
   ],
   "source": [
    "print('Test accuracy:', test_acc)"
   ]
  },
  {
   "cell_type": "code",
   "execution_count": null,
   "metadata": {},
   "outputs": [],
   "source": []
  }
 ],
 "metadata": {
  "kernelspec": {
   "display_name": "Python 3",
   "language": "python",
   "name": "python3"
  },
  "language_info": {
   "codemirror_mode": {
    "name": "ipython",
    "version": 3
   },
   "file_extension": ".py",
   "mimetype": "text/x-python",
   "name": "python",
   "nbconvert_exporter": "python",
   "pygments_lexer": "ipython3",
   "version": "3.6.9"
  }
 },
 "nbformat": 4,
 "nbformat_minor": 4
}
